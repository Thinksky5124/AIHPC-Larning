{
  "cells": [
    {
      "cell_type": "markdown",
      "metadata": {},
      "source": [
        "\n# Matrix Multiplication\nIn this tutorial, you will write a very short high-performance FP16 matrix multiplication kernel that achieves\nperformance on par with cuBLAS.\n\nYou will specifically learn about:\n\n* Block-level matrix multiplications.\n\n* Multi-dimensional pointer arithmetic.\n\n* Program re-ordering for improved L2 cache hit rate.\n\n* Automatic performance tuning.\n"
      ]
    },
    {
      "cell_type": "markdown",
      "metadata": {},
      "source": [
        "## Motivations\n\nMatrix multiplications are a key building block of most modern high-performance computing systems.\nThey are notoriously hard to optimize, hence their implementation is generally done by\nhardware vendors themselves as part of so-called \"kernel libraries\" (e.g., cuBLAS).\nUnfortunately, these libraries are often proprietary and cannot be easily customized\nto accommodate the needs of modern deep learning workloads (e.g., fused activation functions).\nIn this tutorial, you will learn how to implement efficient matrix multiplications by\nyourself with Triton, in a way that is easy to customize and extend.\n\nRoughly speaking, the kernel that we will write will implement the following blocked\nalgorithm to multiply a (M, K) by a (K, N) matrix:\n\n```python\n# Do in parallel\nfor m in range(0, M, BLOCK_SIZE_M):\n  # Do in parallel\n  for n in range(0, N, BLOCK_SIZE_N):\n    acc = zeros((BLOCK_SIZE_M, BLOCK_SIZE_N), dtype=float32)\n    for k in range(0, K, BLOCK_SIZE_K):\n      a = A[m : m+BLOCK_SIZE_M, k : k+BLOCK_SIZE_K]\n      b = B[k : k+BLOCK_SIZE_K, n : n+BLOCK_SIZE_N]\n      acc += dot(a, b)\n    C[m : m+BLOCK_SIZE_M, n : n+BLOCK_SIZE_N] = acc\n```\nwhere each iteration of the doubly-nested for-loop is performed by a dedicated Triton program instance.\n\n"
      ]
    },
    {
      "cell_type": "markdown",
      "metadata": {},
      "source": [
        "## Compute Kernel\n\nThe above algorithm is, actually, fairly straightforward to implement in Triton.\nThe main difficulty comes from the computation of the memory locations at which blocks\nof :code:`A` and :code:`B` must be read in the inner loop. For that, we need\nmulti-dimensional pointer arithmetic.\n\n### Pointer Arithmetic\n\nFor a row-major 2D tensor :code:`X`, the memory location of :code:`X[i, j]` is given\nby :code:`&X[i, j] = X + i*stride_xi + j*stride_xj`.\nTherefore, blocks of pointers for :code:`A[m : m+BLOCK_SIZE_M, k:k+BLOCK_SIZE_K]` and\n:code:`B[k : k+BLOCK_SIZE_K, n : n+BLOCK_SIZE_N]` can be defined in pseudo-code as:\n\n```python\n&A[m : m+BLOCK_SIZE_M, k:k+BLOCK_SIZE_K] =  a_ptr + (m : m+BLOCK_SIZE_M)[:, None]*A.stride(0) + (k : k+BLOCK_SIZE_K)[None, :]*A.stride(1);\n&B[k : k+BLOCK_SIZE_K, n:n+BLOCK_SIZE_N] =  b_ptr + (k : k+BLOCK_SIZE_K)[:, None]*B.stride(0) + (n : n+BLOCK_SIZE_N)[None, :]*B.stride(1);\n```\nWhich means that pointers for blocks of A and B can be initialized (i.e., :code:`k=0`) in Triton as the following\ncode. Also note that we need an extra modulo to handle the case where :code:`M` is not a multiple of\n:code:`BLOCK_SIZE_M` or :code:`N` is not a multiple of :code:`BLOCK_SIZE_N`, in which case we can pad the data with\nsome useless values, which will not contribute to the results. For the :code:`K` dimension, we will handle that later\nusing masking load semantics.\n\n```python\noffs_am = (pid_m * BLOCK_SIZE_M + tl.arange(0, BLOCK_SIZE_M)) % M\noffs_bn = (pid_n * BLOCK_SIZE_N + tl.arange(0, BLOCK_SIZE_N)) % N\noffs_k = tl.arange(0, BLOCK_SIZE_K)\na_ptrs = a_ptr + (offs_am[:, None]*stride_am + offs_k [None, :]*stride_ak)\nb_ptrs = b_ptr + (offs_k [:, None]*stride_bk + offs_bn[None, :]*stride_bn)\n```\nAnd then updated in the inner loop as follows:\n\n```python\na_ptrs += BLOCK_SIZE_K * stride_ak;\nb_ptrs += BLOCK_SIZE_K * stride_bk;\n```\n### L2 Cache Optimizations\n\nAs mentioned above, each program instance computes a :code:`[BLOCK_SIZE_M, BLOCK_SIZE_N]`\nblock of :code:`C`.\nIt is important to remember that the order in which these blocks are computed does\nmatter, since it affects the L2 cache hit rate of our program, and unfortunately, a\nsimple row-major ordering\n\n```Python\npid = triton.program_id(0);\ngrid_m = (M + BLOCK_SIZE_M - 1) // BLOCK_SIZE_M;\ngrid_n = (N + BLOCK_SIZE_N - 1) // BLOCK_SIZE_N;\npid_m = pid / grid_n;\npid_n = pid % grid_n;\n```\nis just not going to cut it.\n\nOne possible solution is to launch blocks in an order that promotes data reuse.\nThis can be done by 'super-grouping' blocks in groups of :code:`GROUP_M` rows before\nswitching to the next column:\n\n```python\n# Program ID\npid = tl.program_id(axis=0)\n# Number of program ids along the M axis\nnum_pid_m = tl.cdiv(M, BLOCK_SIZE_M)\n# Number of programs ids along the N axis\nnum_pid_n = tl.cdiv(N, BLOCK_SIZE_N)\n# Number of programs in group\nnum_pid_in_group = GROUP_SIZE_M * num_pid_n\n# Id of the group this program is in\ngroup_id = pid // num_pid_in_group\n# Row-id of the first program in the group\nfirst_pid_m = group_id * GROUP_SIZE_M\n# If `num_pid_m` isn't divisible by `GROUP_SIZE_M`, the last group is smaller\ngroup_size_m = min(num_pid_m - first_pid_m, GROUP_SIZE_M)\n# *Within groups*, programs are ordered in a column-major order\n# Row-id of the program in the *launch grid*\npid_m = first_pid_m + (pid % group_size_m)\n# Col-id of the program in the *launch grid*\npid_n = (pid % num_pid_in_group) // group_size_m\n```\nFor example, in the following matmul where each matrix is 9 blocks by 9 blocks,\nwe can see that if we compute the output in row-major ordering, we need to load 90\nblocks into SRAM to compute the first 9 output blocks, but if we do it in grouped\nordering, we only need to load 54 blocks.\n\n  .. image:: grouped_vs_row_major_ordering.png\n\nIn practice, this can improve the performance of our matrix multiplication kernel by\nmore than 10\\% on some hardware architecture (e.g., 220 to 245 TFLOPS on A100).\n\n\n"
      ]
    },
    {
      "cell_type": "markdown",
      "metadata": {},
      "source": [
        "## Final Result\n\n"
      ]
    },
    {
      "cell_type": "code",
      "execution_count": null,
      "metadata": {
        "collapsed": false
      },
      "outputs": [],
      "source": [
        "import torch\n\nimport triton\nimport triton.language as tl\n\n\n# `triton.jit`'ed functions can be auto-tuned by using the `triton.autotune` decorator, which consumes:\n#   - A list of `triton.Config` objects that define different configurations of\n#       meta-parameters (e.g., `BLOCK_SIZE_M`) and compilation options (e.g., `num_warps`) to try\n#   - An auto-tuning *key* whose change in values will trigger evaluation of all the\n#       provided configs\n@triton.autotune(\n    configs=[\n        triton.Config({'BLOCK_SIZE_M': 128, 'BLOCK_SIZE_N': 256, 'BLOCK_SIZE_K': 64, 'GROUP_SIZE_M': 8}, num_stages=3,\n                      num_warps=8),\n        triton.Config({'BLOCK_SIZE_M': 64, 'BLOCK_SIZE_N': 256, 'BLOCK_SIZE_K': 32, 'GROUP_SIZE_M': 8}, num_stages=4,\n                      num_warps=4),\n        triton.Config({'BLOCK_SIZE_M': 128, 'BLOCK_SIZE_N': 128, 'BLOCK_SIZE_K': 32, 'GROUP_SIZE_M': 8}, num_stages=4,\n                      num_warps=4),\n        triton.Config({'BLOCK_SIZE_M': 128, 'BLOCK_SIZE_N': 64, 'BLOCK_SIZE_K': 32, 'GROUP_SIZE_M': 8}, num_stages=4,\n                      num_warps=4),\n        triton.Config({'BLOCK_SIZE_M': 64, 'BLOCK_SIZE_N': 128, 'BLOCK_SIZE_K': 32, 'GROUP_SIZE_M': 8}, num_stages=4,\n                      num_warps=4),\n        triton.Config({'BLOCK_SIZE_M': 128, 'BLOCK_SIZE_N': 32, 'BLOCK_SIZE_K': 32, 'GROUP_SIZE_M': 8}, num_stages=4,\n                      num_warps=4),\n        triton.Config({'BLOCK_SIZE_M': 64, 'BLOCK_SIZE_N': 32, 'BLOCK_SIZE_K': 32, 'GROUP_SIZE_M': 8}, num_stages=5,\n                      num_warps=2),\n        triton.Config({'BLOCK_SIZE_M': 32, 'BLOCK_SIZE_N': 64, 'BLOCK_SIZE_K': 32, 'GROUP_SIZE_M': 8}, num_stages=5,\n                      num_warps=2),\n    ],\n    key=['M', 'N', 'K'],\n)\n@triton.jit\ndef matmul_kernel(\n        # Pointers to matrices\n        a_ptr, b_ptr, c_ptr,\n        # Matrix dimensions\n        M, N, K,\n        # The stride variables represent how much to increase the ptr by when moving by 1\n        # element in a particular dimension. E.g. `stride_am` is how much to increase `a_ptr`\n        # by to get the element one row down (A has M rows).\n        stride_am, stride_ak,  #\n        stride_bk, stride_bn,  #\n        stride_cm, stride_cn,\n        # Meta-parameters\n        BLOCK_SIZE_M: tl.constexpr, BLOCK_SIZE_N: tl.constexpr, BLOCK_SIZE_K: tl.constexpr,  #\n        GROUP_SIZE_M: tl.constexpr,  #\n        ACTIVATION: tl.constexpr  #\n):\n    \"\"\"Kernel for computing the matmul C = A x B.\n    A has shape (M, K), B has shape (K, N) and C has shape (M, N)\n    \"\"\"\n    # -----------------------------------------------------------\n    # Map program ids `pid` to the block of C it should compute.\n    # This is done in a grouped ordering to promote L2 data reuse.\n    # See above `L2 Cache Optimizations` section for details.\n    pid = tl.program_id(axis=0)\n    num_pid_m = tl.cdiv(M, BLOCK_SIZE_M)\n    num_pid_n = tl.cdiv(N, BLOCK_SIZE_N)\n    num_pid_in_group = GROUP_SIZE_M * num_pid_n\n    group_id = pid // num_pid_in_group\n    first_pid_m = group_id * GROUP_SIZE_M\n    group_size_m = min(num_pid_m - first_pid_m, GROUP_SIZE_M)\n    pid_m = first_pid_m + (pid % group_size_m)\n    pid_n = (pid % num_pid_in_group) // group_size_m\n\n    # ----------------------------------------------------------\n    # Create pointers for the first blocks of A and B.\n    # We will advance this pointer as we move in the K direction\n    # and accumulate\n    # `a_ptrs` is a block of [BLOCK_SIZE_M, BLOCK_SIZE_K] pointers\n    # `b_ptrs` is a block of [BLOCK_SIZE_K, BLOCK_SIZE_N] pointers\n    # See above `Pointer Arithmetic` section for details\n    offs_am = (pid_m * BLOCK_SIZE_M + tl.arange(0, BLOCK_SIZE_M)) % M\n    offs_bn = (pid_n * BLOCK_SIZE_N + tl.arange(0, BLOCK_SIZE_N)) % N\n    offs_k = tl.arange(0, BLOCK_SIZE_K)\n    a_ptrs = a_ptr + (offs_am[:, None] * stride_am + offs_k[None, :] * stride_ak)\n    b_ptrs = b_ptr + (offs_k[:, None] * stride_bk + offs_bn[None, :] * stride_bn)\n\n    # -----------------------------------------------------------\n    # Iterate to compute a block of the C matrix.\n    # We accumulate into a `[BLOCK_SIZE_M, BLOCK_SIZE_N]` block\n    # of fp32 values for higher accuracy.\n    # `accumulator` will be converted back to fp16 after the loop.\n    accumulator = tl.zeros((BLOCK_SIZE_M, BLOCK_SIZE_N), dtype=tl.float32)\n    for k in range(0, tl.cdiv(K, BLOCK_SIZE_K)):\n        # Load the next block of A and B, generate a mask by checking the K dimension.\n        # If it is out of bounds, set it to 0.\n        a = tl.load(a_ptrs, mask=offs_k[None, :] < K - k * BLOCK_SIZE_K, other=0.0)\n        b = tl.load(b_ptrs, mask=offs_k[:, None] < K - k * BLOCK_SIZE_K, other=0.0)\n        # We accumulate along the K dimension.\n        accumulator += tl.dot(a, b)\n        # Advance the ptrs to the next K block.\n        a_ptrs += BLOCK_SIZE_K * stride_ak\n        b_ptrs += BLOCK_SIZE_K * stride_bk\n    # You can fuse arbitrary activation functions here\n    # while the accumulator is still in FP32!\n    if ACTIVATION == \"leaky_relu\":\n        accumulator = leaky_relu(accumulator)\n    c = accumulator.to(tl.float16)\n\n    # -----------------------------------------------------------\n    # Write back the block of the output matrix C with masks.\n    offs_cm = pid_m * BLOCK_SIZE_M + tl.arange(0, BLOCK_SIZE_M)\n    offs_cn = pid_n * BLOCK_SIZE_N + tl.arange(0, BLOCK_SIZE_N)\n    c_ptrs = c_ptr + stride_cm * offs_cm[:, None] + stride_cn * offs_cn[None, :]\n    c_mask = (offs_cm[:, None] < M) & (offs_cn[None, :] < N)\n    tl.store(c_ptrs, c, mask=c_mask)\n\n\n# We can fuse `leaky_relu` by providing it as an `ACTIVATION` meta-parameter in `_matmul`.\n@triton.jit\ndef leaky_relu(x):\n    x = x + 1\n    return tl.where(x >= 0, x, 0.01 * x)"
      ]
    },
    {
      "cell_type": "markdown",
      "metadata": {},
      "source": [
        "We can now create a convenience wrapper function that only takes two input tensors,\nand (1) checks any shape constraint; (2) allocates the output; (3) launches the above kernel.\n\n"
      ]
    },
    {
      "cell_type": "code",
      "execution_count": null,
      "metadata": {
        "collapsed": false
      },
      "outputs": [],
      "source": [
        "def matmul(a, b, activation=\"\"):\n    # Check constraints.\n    assert a.shape[1] == b.shape[0], \"Incompatible dimensions\"\n    assert a.is_contiguous(), \"Matrix A must be contiguous\"\n    assert b.is_contiguous(), \"Matrix B must be contiguous\"\n    M, K = a.shape\n    K, N = b.shape\n    # Allocates output.\n    c = torch.empty((M, N), device=a.device, dtype=a.dtype)\n    # 1D launch kernel where each block gets its own program.\n    grid = lambda META: (triton.cdiv(M, META['BLOCK_SIZE_M']) * triton.cdiv(N, META['BLOCK_SIZE_N']), )\n    matmul_kernel[grid](\n        a, b, c,  #\n        M, N, K,  #\n        a.stride(0), a.stride(1),  #\n        b.stride(0), b.stride(1),  #\n        c.stride(0), c.stride(1),  #\n        ACTIVATION=activation  #\n    )\n    return c"
      ]
    },
    {
      "cell_type": "markdown",
      "metadata": {},
      "source": [
        "## Unit Test\n\nWe can test our custom matrix multiplication operation against a native torch implementation (i.e., cuBLAS).\n\n"
      ]
    },
    {
      "cell_type": "code",
      "execution_count": null,
      "metadata": {
        "collapsed": false
      },
      "outputs": [],
      "source": [
        "torch.manual_seed(0)\na = torch.randn((512, 512), device='cuda', dtype=torch.float16)\nb = torch.randn((512, 512), device='cuda', dtype=torch.float16)\ntriton_output = matmul(a, b)\ntorch_output = torch.matmul(a, b)\nprint(f\"triton_output={triton_output}\")\nprint(f\"torch_output={torch_output}\")\nif torch.allclose(triton_output, torch_output, atol=1e-2, rtol=0):\n    print(\"\u2705 Triton and Torch match\")\nelse:\n    print(\"\u274c Triton and Torch differ\")"
      ]
    },
    {
      "cell_type": "markdown",
      "metadata": {},
      "source": [
        "## Benchmark\n\n### Square Matrix Performance\n\nWe can now compare the performance of our kernel against that of cuBLAS. Here we focus on square matrices,\nbut feel free to arrange this script as you wish to benchmark any other matrix shape.\n\n"
      ]
    },
    {
      "cell_type": "code",
      "execution_count": null,
      "metadata": {
        "collapsed": false
      },
      "outputs": [],
      "source": [
        "@triton.testing.perf_report(\n    triton.testing.Benchmark(\n        x_names=['M', 'N', 'K'],  # Argument names to use as an x-axis for the plot\n        x_vals=[128 * i for i in range(2, 33)],  # Different possible values for `x_name`\n        line_arg='provider',  # Argument name whose value corresponds to a different line in the plot\n        # Possible values for `line_arg`\n        line_vals=['cublas', 'triton'],\n        # Label name for the lines\n        line_names=[\"cuBLAS\", \"Triton\"],\n        # Line styles\n        styles=[('green', '-'), ('blue', '-')],\n        ylabel=\"TFLOPS\",  # Label name for the y-axis\n        plot_name=\"matmul-performance\",  # Name for the plot, used also as a file name for saving the plot.\n        args={},\n    ))\ndef benchmark(M, N, K, provider):\n    a = torch.randn((M, K), device='cuda', dtype=torch.float16)\n    b = torch.randn((K, N), device='cuda', dtype=torch.float16)\n    quantiles = [0.5, 0.2, 0.8]\n    if provider == 'cublas':\n        ms, min_ms, max_ms = triton.testing.do_bench(lambda: torch.matmul(a, b), quantiles=quantiles)\n    if provider == 'triton':\n        ms, min_ms, max_ms = triton.testing.do_bench(lambda: matmul(a, b), quantiles=quantiles)\n    perf = lambda ms: 2 * M * N * K * 1e-12 / (ms * 1e-3)\n    return perf(ms), perf(max_ms), perf(min_ms)\n\n\nbenchmark.run(show_plots=True, print_data=True)"
      ]
    }
  ],
  "metadata": {
    "kernelspec": {
      "display_name": "Python 3",
      "language": "python",
      "name": "python3"
    },
    "language_info": {
      "codemirror_mode": {
        "name": "ipython",
        "version": 3
      },
      "file_extension": ".py",
      "mimetype": "text/x-python",
      "name": "python",
      "nbconvert_exporter": "python",
      "pygments_lexer": "ipython3",
      "version": "3.10.12"
    }
  },
  "nbformat": 4,
  "nbformat_minor": 0
}